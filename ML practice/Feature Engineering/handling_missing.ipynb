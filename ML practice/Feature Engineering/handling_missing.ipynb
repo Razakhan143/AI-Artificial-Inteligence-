{
 "cells": [
  {
   "cell_type": "code",
   "execution_count": 1,
   "metadata": {},
   "outputs": [],
   "source": [
    "import pandas as pd\n",
    "import numpy as np\n",
    "import matplotlib.pyplot as plt"
   ]
  },
  {
   "cell_type": "code",
   "execution_count": 2,
   "metadata": {},
   "outputs": [],
   "source": [
    "from sklearn.model_selection import train_test_split\n",
    "from sklearn.impute import SimpleImputer\n",
    "from sklearn.compose import ColumnTransformer"
   ]
  },
  {
   "cell_type": "code",
   "execution_count": 3,
   "metadata": {},
   "outputs": [],
   "source": [
    "df = pd.read_csv(r'C:\\Users\\tesla\\OneDrive\\Desktop\\AI-Artificial-Inteligence-\\ML practice\\Feature Engineering\\movies rating.csv')"
   ]
  },
  {
   "cell_type": "code",
   "execution_count": 4,
   "metadata": {},
   "outputs": [
    {
     "data": {
      "text/html": [
       "<div>\n",
       "<style scoped>\n",
       "    .dataframe tbody tr th:only-of-type {\n",
       "        vertical-align: middle;\n",
       "    }\n",
       "\n",
       "    .dataframe tbody tr th {\n",
       "        vertical-align: top;\n",
       "    }\n",
       "\n",
       "    .dataframe thead th {\n",
       "        text-align: right;\n",
       "    }\n",
       "</style>\n",
       "<table border=\"1\" class=\"dataframe\">\n",
       "  <thead>\n",
       "    <tr style=\"text-align: right;\">\n",
       "      <th></th>\n",
       "      <th>Unnamed: 0</th>\n",
       "      <th>Rank</th>\n",
       "      <th>Movie</th>\n",
       "      <th>World Profit</th>\n",
       "      <th>Gross</th>\n",
       "      <th>National View</th>\n",
       "      <th>Foreign Profit</th>\n",
       "      <th>International View</th>\n",
       "    </tr>\n",
       "  </thead>\n",
       "  <tbody>\n",
       "    <tr>\n",
       "      <th>0</th>\n",
       "      <td>0</td>\n",
       "      <td>1</td>\n",
       "      <td>NaN</td>\n",
       "      <td>$1,698,863,816</td>\n",
       "      <td>$652,980,194</td>\n",
       "      <td>38.4%</td>\n",
       "      <td>$1,045,883,622</td>\n",
       "      <td>61.6%</td>\n",
       "    </tr>\n",
       "    <tr>\n",
       "      <th>1</th>\n",
       "      <td>1</td>\n",
       "      <td>2</td>\n",
       "      <td>NaN</td>\n",
       "      <td>$1,338,073,645</td>\n",
       "      <td>$636,745,858</td>\n",
       "      <td>47.6%</td>\n",
       "      <td>$701,327,787</td>\n",
       "      <td>52.4%</td>\n",
       "    </tr>\n",
       "    <tr>\n",
       "      <th>2</th>\n",
       "      <td>2</td>\n",
       "      <td>3</td>\n",
       "      <td>NaN</td>\n",
       "      <td>$1,026,899,678</td>\n",
       "      <td>$450,182,382</td>\n",
       "      <td>43.8%</td>\n",
       "      <td>$576,717,296</td>\n",
       "      <td>56.2%</td>\n",
       "    </tr>\n",
       "    <tr>\n",
       "      <th>3</th>\n",
       "      <td>3</td>\n",
       "      <td>4</td>\n",
       "      <td>NaN</td>\n",
       "      <td>$969,126,452</td>\n",
       "      <td>$361,004,205</td>\n",
       "      <td>37.3%</td>\n",
       "      <td>$608,122,247</td>\n",
       "      <td>62.7%</td>\n",
       "    </tr>\n",
       "    <tr>\n",
       "      <th>4</th>\n",
       "      <td>4</td>\n",
       "      <td>5</td>\n",
       "      <td>Domestic</td>\n",
       "      <td>$717,365,125</td>\n",
       "      <td>$468,982,125</td>\n",
       "      <td>65.4%</td>\n",
       "      <td>$248,383,000</td>\n",
       "      <td>34.6%</td>\n",
       "    </tr>\n",
       "  </tbody>\n",
       "</table>\n",
       "</div>"
      ],
      "text/plain": [
       "   Unnamed: 0  Rank     Movie    World Profit         Gross National View  \\\n",
       "0           0     1       NaN  $1,698,863,816  $652,980,194         38.4%   \n",
       "1           1     2       NaN  $1,338,073,645  $636,745,858         47.6%   \n",
       "2           2     3       NaN  $1,026,899,678  $450,182,382         43.8%   \n",
       "3           3     4       NaN    $969,126,452  $361,004,205         37.3%   \n",
       "4           4     5  Domestic    $717,365,125  $468,982,125         65.4%   \n",
       "\n",
       "   Foreign Profit International View  \n",
       "0  $1,045,883,622              61.6%  \n",
       "1    $701,327,787              52.4%  \n",
       "2    $576,717,296              56.2%  \n",
       "3    $608,122,247              62.7%  \n",
       "4    $248,383,000              34.6%  "
      ]
     },
     "execution_count": 4,
     "metadata": {},
     "output_type": "execute_result"
    }
   ],
   "source": [
    "df.head()"
   ]
  },
  {
   "cell_type": "code",
   "execution_count": 8,
   "metadata": {},
   "outputs": [],
   "source": [
    "data=[]"
   ]
  },
  {
   "cell_type": "code",
   "execution_count": 16,
   "metadata": {},
   "outputs": [],
   "source": [
    "st =[  'Gross', 'Foreign Profit','World Profit']\n",
    "flt=['International View', 'National View']\n",
    "\n",
    "for i in st:\n",
    "    df[i] = df[i].astype(str).str.replace(r'[$,]', '', regex=True) \\\n",
    "                            .str.replace('%', '', regex=True) \\\n",
    "                            .replace('-', 0) \\\n",
    "                            .astype(float)"
   ]
  },
  {
   "cell_type": "code",
   "execution_count": 27,
   "metadata": {},
   "outputs": [],
   "source": [
    "df.drop(['Unnamed: 0'],axis=1,inplace=True)"
   ]
  },
  {
   "cell_type": "code",
   "execution_count": 24,
   "metadata": {},
   "outputs": [],
   "source": [
    "df.replace(0,np.nan,inplace=True)"
   ]
  },
  {
   "cell_type": "code",
   "execution_count": 28,
   "metadata": {},
   "outputs": [
    {
     "data": {
      "text/plain": [
       "Rank                  0.000\n",
       "Movie                 0.020\n",
       "World Profit          0.000\n",
       "Gross                 0.345\n",
       "National View         0.345\n",
       "Foreign Profit        0.020\n",
       "International View    0.020\n",
       "dtype: float64"
      ]
     },
     "execution_count": 28,
     "metadata": {},
     "output_type": "execute_result"
    }
   ],
   "source": [
    "df.isnull().mean()"
   ]
  },
  {
   "cell_type": "code",
   "execution_count": 30,
   "metadata": {},
   "outputs": [],
   "source": [
    "X = df.drop(columns=['National View'])\n",
    "y = df['National View']"
   ]
  },
  {
   "cell_type": "code",
   "execution_count": 31,
   "metadata": {},
   "outputs": [],
   "source": [
    "X_train,X_test,y_train,y_test = train_test_split(X,y,test_size=0.2,random_state=2)"
   ]
  },
  {
   "cell_type": "code",
   "execution_count": 32,
   "metadata": {},
   "outputs": [
    {
     "data": {
      "text/plain": [
       "((160, 6), (40, 6))"
      ]
     },
     "execution_count": 32,
     "metadata": {},
     "output_type": "execute_result"
    }
   ],
   "source": [
    "X_train.shape, X_test.shape"
   ]
  },
  {
   "cell_type": "code",
   "execution_count": null,
   "metadata": {},
   "outputs": [],
   "source": []
  }
 ],
 "metadata": {
  "kernelspec": {
   "display_name": "base",
   "language": "python",
   "name": "python3"
  },
  "language_info": {
   "codemirror_mode": {
    "name": "ipython",
    "version": 3
   },
   "file_extension": ".py",
   "mimetype": "text/x-python",
   "name": "python",
   "nbconvert_exporter": "python",
   "pygments_lexer": "ipython3",
   "version": "3.11.7"
  }
 },
 "nbformat": 4,
 "nbformat_minor": 2
}
