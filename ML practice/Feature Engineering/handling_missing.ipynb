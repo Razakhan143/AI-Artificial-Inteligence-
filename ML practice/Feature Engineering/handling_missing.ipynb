{
 "cells": [
  {
   "cell_type": "code",
   "execution_count": 1,
   "metadata": {},
   "outputs": [],
   "source": [
    "import pandas as pd\n",
    "import numpy as np\n",
    "import matplotlib.pyplot as plt"
   ]
  },
  {
   "cell_type": "code",
   "execution_count": 2,
   "metadata": {},
   "outputs": [],
   "source": [
    "from sklearn.model_selection import train_test_split\n",
    "from sklearn.impute import SimpleImputer\n",
    "from sklearn.compose import ColumnTransformer"
   ]
  },
  {
   "cell_type": "code",
   "execution_count": 3,
   "metadata": {},
   "outputs": [],
   "source": [
    "df = pd.read_csv(r'C:\\Users\\tesla\\OneDrive\\Desktop\\AI-Artificial-Inteligence-\\ML practice\\Feature Engineering\\movies rating.csv')"
   ]
  },
  {
   "cell_type": "code",
   "execution_count": 4,
   "metadata": {},
   "outputs": [
    {
     "data": {
      "text/html": [
       "<div>\n",
       "<style scoped>\n",
       "    .dataframe tbody tr th:only-of-type {\n",
       "        vertical-align: middle;\n",
       "    }\n",
       "\n",
       "    .dataframe tbody tr th {\n",
       "        vertical-align: top;\n",
       "    }\n",
       "\n",
       "    .dataframe thead th {\n",
       "        text-align: right;\n",
       "    }\n",
       "</style>\n",
       "<table border=\"1\" class=\"dataframe\">\n",
       "  <thead>\n",
       "    <tr style=\"text-align: right;\">\n",
       "      <th></th>\n",
       "      <th>Unnamed: 0</th>\n",
       "      <th>Rank</th>\n",
       "      <th>Movie</th>\n",
       "      <th>World Profit</th>\n",
       "      <th>Gross</th>\n",
       "      <th>National View</th>\n",
       "      <th>Foreign Profit</th>\n",
       "      <th>International View</th>\n",
       "    </tr>\n",
       "  </thead>\n",
       "  <tbody>\n",
       "    <tr>\n",
       "      <th>0</th>\n",
       "      <td>0</td>\n",
       "      <td>1</td>\n",
       "      <td>NaN</td>\n",
       "      <td>$1,698,863,816</td>\n",
       "      <td>$652,980,194</td>\n",
       "      <td>38.4%</td>\n",
       "      <td>$1,045,883,622</td>\n",
       "      <td>61.6%</td>\n",
       "    </tr>\n",
       "    <tr>\n",
       "      <th>1</th>\n",
       "      <td>1</td>\n",
       "      <td>2</td>\n",
       "      <td>NaN</td>\n",
       "      <td>$1,338,073,645</td>\n",
       "      <td>$636,745,858</td>\n",
       "      <td>47.6%</td>\n",
       "      <td>$701,327,787</td>\n",
       "      <td>52.4%</td>\n",
       "    </tr>\n",
       "    <tr>\n",
       "      <th>2</th>\n",
       "      <td>2</td>\n",
       "      <td>3</td>\n",
       "      <td>NaN</td>\n",
       "      <td>$1,026,899,678</td>\n",
       "      <td>$450,182,382</td>\n",
       "      <td>43.8%</td>\n",
       "      <td>$576,717,296</td>\n",
       "      <td>56.2%</td>\n",
       "    </tr>\n",
       "    <tr>\n",
       "      <th>3</th>\n",
       "      <td>3</td>\n",
       "      <td>4</td>\n",
       "      <td>NaN</td>\n",
       "      <td>$969,126,452</td>\n",
       "      <td>$361,004,205</td>\n",
       "      <td>37.3%</td>\n",
       "      <td>$608,122,247</td>\n",
       "      <td>62.7%</td>\n",
       "    </tr>\n",
       "    <tr>\n",
       "      <th>4</th>\n",
       "      <td>4</td>\n",
       "      <td>5</td>\n",
       "      <td>Domestic</td>\n",
       "      <td>$717,365,125</td>\n",
       "      <td>$468,982,125</td>\n",
       "      <td>65.4%</td>\n",
       "      <td>$248,383,000</td>\n",
       "      <td>34.6%</td>\n",
       "    </tr>\n",
       "  </tbody>\n",
       "</table>\n",
       "</div>"
      ],
      "text/plain": [
       "   Unnamed: 0  Rank     Movie    World Profit         Gross National View  \\\n",
       "0           0     1       NaN  $1,698,863,816  $652,980,194         38.4%   \n",
       "1           1     2       NaN  $1,338,073,645  $636,745,858         47.6%   \n",
       "2           2     3       NaN  $1,026,899,678  $450,182,382         43.8%   \n",
       "3           3     4       NaN    $969,126,452  $361,004,205         37.3%   \n",
       "4           4     5  Domestic    $717,365,125  $468,982,125         65.4%   \n",
       "\n",
       "   Foreign Profit International View  \n",
       "0  $1,045,883,622              61.6%  \n",
       "1    $701,327,787              52.4%  \n",
       "2    $576,717,296              56.2%  \n",
       "3    $608,122,247              62.7%  \n",
       "4    $248,383,000              34.6%  "
      ]
     },
     "execution_count": 4,
     "metadata": {},
     "output_type": "execute_result"
    }
   ],
   "source": [
    "df.head()"
   ]
  },
  {
   "cell_type": "code",
   "execution_count": 8,
   "metadata": {},
   "outputs": [],
   "source": [
    "data=[]"
   ]
  },
  {
   "cell_type": "code",
   "execution_count": 16,
   "metadata": {},
   "outputs": [],
   "source": [
    "st =[  'Gross', 'Foreign Profit','World Profit']\n",
    "flt=['International View', 'National View']\n",
    "\n",
    "for i in st:\n",
    "    df[i] = df[i].astype(str).str.replace(r'[$,]', '', regex=True) \\\n",
    "                            .str.replace('%', '', regex=True) \\\n",
    "                            .replace('-', 0) \\\n",
    "                            .astype(float)"
   ]
  },
  {
   "cell_type": "code",
   "execution_count": 27,
   "metadata": {},
   "outputs": [],
   "source": [
    "df.drop(['Unnamed: 0'],axis=1,inplace=True)"
   ]
  },
  {
   "cell_type": "code",
   "execution_count": 24,
   "metadata": {},
   "outputs": [],
   "source": [
    "df.replace(0,np.nan,inplace=True)"
   ]
  },
  {
   "cell_type": "code",
   "execution_count": 28,
   "metadata": {},
   "outputs": [
    {
     "data": {
      "text/plain": [
       "Rank                  0.000\n",
       "Movie                 0.020\n",
       "World Profit          0.000\n",
       "Gross                 0.345\n",
       "National View         0.345\n",
       "Foreign Profit        0.020\n",
       "International View    0.020\n",
       "dtype: float64"
      ]
     },
     "execution_count": 28,
     "metadata": {},
     "output_type": "execute_result"
    }
   ],
   "source": [
    "df.isnull().mean()"
   ]
  },
  {
   "cell_type": "code",
   "execution_count": 30,
   "metadata": {},
   "outputs": [],
   "source": [
    "X = df.drop(columns=['National View'])\n",
    "y = df['National View']"
   ]
  },
  {
   "cell_type": "code",
   "execution_count": 31,
   "metadata": {},
   "outputs": [],
   "source": [
    "X_train,X_test,y_train,y_test = train_test_split(X,y,test_size=0.2,random_state=2)"
   ]
  },
  {
   "cell_type": "code",
   "execution_count": 32,
   "metadata": {},
   "outputs": [
    {
     "data": {
      "text/plain": [
       "((160, 6), (40, 6))"
      ]
     },
     "execution_count": 32,
     "metadata": {},
     "output_type": "execute_result"
    }
   ],
   "source": [
    "X_train.shape, X_test.shape"
   ]
  },
  {
   "cell_type": "code",
   "execution_count": 35,
   "metadata": {},
   "outputs": [
    {
     "data": {
      "text/plain": [
       "Rank                  0.00000\n",
       "Movie                 0.01250\n",
       "World Profit          0.00000\n",
       "Gross                 0.35625\n",
       "Foreign Profit        0.02500\n",
       "International View    0.02500\n",
       "dtype: float64"
      ]
     },
     "execution_count": 35,
     "metadata": {},
     "output_type": "execute_result"
    }
   ],
   "source": [
    "X_train.isnull().mean()"
   ]
  },
  {
   "cell_type": "code",
   "execution_count": 36,
   "metadata": {},
   "outputs": [],
   "source": [
    "mean_Gross = X_train['Gross'].mean()\n",
    "median_Gross = X_train['Gross'].median()\n",
    "\n",
    "mean_Foreign_Profit = X_train['Foreign Profit'].mean()\n",
    "median_Foreign_Profit = X_train['Foreign Profit'].median()\n",
    "\n",
    "mean_International_View  = X_train['International View'].mean()\n",
    "median_International_View  = X_train['International View'].median()"
   ]
  },
  {
   "cell_type": "code",
   "execution_count": 37,
   "metadata": {},
   "outputs": [],
   "source": [
    "X_train['Gross_median'] = X_train['Gross'].fillna(mean_Gross)\n",
    "X_train['Gross_mean'] = X_train['Gross'].fillna(mean_Gross)\n",
    "\n",
    "X_train['ForeignP_median'] = X_train['Foreign Profit'].fillna(mean_Foreign_Profit)\n",
    "X_train['ForeignP_mean'] = X_train['Foreign Profit'].fillna(mean_Foreign_Profit)\n",
    "\n",
    "X_train['iView_median'] = X_train['International View'].fillna(mean_International_View)\n",
    "X_train['iView_mean'] = X_train['International View'].fillna(mean_International_View)"
   ]
  },
  {
   "cell_type": "code",
   "execution_count": 39,
   "metadata": {},
   "outputs": [
    {
     "data": {
      "text/html": [
       "<div>\n",
       "<style scoped>\n",
       "    .dataframe tbody tr th:only-of-type {\n",
       "        vertical-align: middle;\n",
       "    }\n",
       "\n",
       "    .dataframe tbody tr th {\n",
       "        vertical-align: top;\n",
       "    }\n",
       "\n",
       "    .dataframe thead th {\n",
       "        text-align: right;\n",
       "    }\n",
       "</style>\n",
       "<table border=\"1\" class=\"dataframe\">\n",
       "  <thead>\n",
       "    <tr style=\"text-align: right;\">\n",
       "      <th></th>\n",
       "      <th>Rank</th>\n",
       "      <th>Movie</th>\n",
       "      <th>World Profit</th>\n",
       "      <th>Gross</th>\n",
       "      <th>Foreign Profit</th>\n",
       "      <th>International View</th>\n",
       "      <th>Gross_median</th>\n",
       "      <th>Gross_mean</th>\n",
       "      <th>ForeignP_median</th>\n",
       "      <th>ForeignP_mean</th>\n",
       "      <th>iView_median</th>\n",
       "      <th>iView_mean</th>\n",
       "    </tr>\n",
       "  </thead>\n",
       "  <tbody>\n",
       "    <tr>\n",
       "      <th>137</th>\n",
       "      <td>138</td>\n",
       "      <td>Doctor X: The Movie</td>\n",
       "      <td>14873918.0</td>\n",
       "      <td>14409169.0</td>\n",
       "      <td>464749.0</td>\n",
       "      <td>3.1</td>\n",
       "      <td>1.440917e+07</td>\n",
       "      <td>1.440917e+07</td>\n",
       "      <td>464749.0</td>\n",
       "      <td>464749.0</td>\n",
       "      <td>3.1</td>\n",
       "      <td>3.1</td>\n",
       "    </tr>\n",
       "    <tr>\n",
       "      <th>163</th>\n",
       "      <td>164</td>\n",
       "      <td>Niko: Beyond the Northern Lights</td>\n",
       "      <td>11227393.0</td>\n",
       "      <td>NaN</td>\n",
       "      <td>11227393.0</td>\n",
       "      <td>100.0</td>\n",
       "      <td>5.500852e+07</td>\n",
       "      <td>5.500852e+07</td>\n",
       "      <td>11227393.0</td>\n",
       "      <td>11227393.0</td>\n",
       "      <td>100.0</td>\n",
       "      <td>100.0</td>\n",
       "    </tr>\n",
       "  </tbody>\n",
       "</table>\n",
       "</div>"
      ],
      "text/plain": [
       "     Rank                             Movie  World Profit       Gross  \\\n",
       "137   138               Doctor X: The Movie    14873918.0  14409169.0   \n",
       "163   164  Niko: Beyond the Northern Lights    11227393.0         NaN   \n",
       "\n",
       "     Foreign Profit  International View  Gross_median    Gross_mean  \\\n",
       "137        464749.0                 3.1  1.440917e+07  1.440917e+07   \n",
       "163      11227393.0               100.0  5.500852e+07  5.500852e+07   \n",
       "\n",
       "     ForeignP_median  ForeignP_mean  iView_median  iView_mean  \n",
       "137         464749.0       464749.0           3.1         3.1  \n",
       "163       11227393.0     11227393.0         100.0       100.0  "
      ]
     },
     "execution_count": 39,
     "metadata": {},
     "output_type": "execute_result"
    }
   ],
   "source": [
    "X_train.head(2)"
   ]
  },
  {
   "cell_type": "code",
   "execution_count": 40,
   "metadata": {},
   "outputs": [
    {
     "name": "stdout",
     "output_type": "stream",
     "text": [
      "Original Gross variable variance:  1.2132784238182654e+16\n",
      "Gross Variance after median imputation:  7783295549022834.0\n",
      "Gross Variance after mean imputation:  7783295549022834.0\n",
      "Original Foreign Profit variable variance:  1.3523855375880002e+16\n",
      "Foreign Profit Variance after median imputation:  1.3183632599128304e+16\n",
      "Foreign Profit Variance after mean imputation:  1.3183632599128304e+16\n",
      "Original Fare variable variance:  989.5642593052102\n",
      "Fare Variance after median imputation:  964.6695609579098\n",
      "Fare Variance after mean imputation:  964.6695609579098\n"
     ]
    }
   ],
   "source": [
    "print('Original Gross variable variance: ', X_train['Gross'].var())\n",
    "print('Gross Variance after median imputation: ', X_train['Gross_mean'].var())\n",
    "print('Gross Variance after mean imputation: ', X_train['Gross_median'].var())\n",
    "\n",
    "print('Original Foreign Profit variable variance: ', X_train['Foreign Profit'].var())\n",
    "print('Foreign Profit Variance after median imputation: ', X_train['ForeignP_mean'].var())\n",
    "print('Foreign Profit Variance after mean imputation: ', X_train['ForeignP_median'].var())\n",
    "\n",
    "print('Original Fare variable variance: ', X_train['International View'].var())\n",
    "print('Fare Variance after median imputation: ', X_train['iView_mean'].var())\n",
    "print('Fare Variance after mean imputation: ', X_train['iView_median'].var())"
   ]
  },
  {
   "cell_type": "code",
   "execution_count": null,
   "metadata": {},
   "outputs": [],
   "source": [
    "fig = plt.figure()\n",
    "ax = fig.add_subplot(111)\n",
    "\n",
    "# original variable distribution\n",
    "X_train['Age'].plot(kind='kde', ax=ax)\n",
    "\n",
    "# variable imputed with the median\n",
    "X_train['Age_median'].plot(kind='kde', ax=ax, color='red')\n",
    "\n",
    "# variable imputed with the mean\n",
    "X_train['Age_mean'].plot(kind='kde', ax=ax, color='green')\n",
    "\n",
    "# add legends\n",
    "lines, labels = ax.get_legend_handles_labels()\n",
    "ax.legend(lines, labels, loc='best')"
   ]
  }
 ],
 "metadata": {
  "kernelspec": {
   "display_name": "base",
   "language": "python",
   "name": "python3"
  },
  "language_info": {
   "codemirror_mode": {
    "name": "ipython",
    "version": 3
   },
   "file_extension": ".py",
   "mimetype": "text/x-python",
   "name": "python",
   "nbconvert_exporter": "python",
   "pygments_lexer": "ipython3",
   "version": "3.11.7"
  }
 },
 "nbformat": 4,
 "nbformat_minor": 2
}
